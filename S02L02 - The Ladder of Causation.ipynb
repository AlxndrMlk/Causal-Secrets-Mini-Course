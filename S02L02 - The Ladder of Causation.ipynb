{
 "cells": [
  {
   "cell_type": "code",
   "execution_count": 1,
   "id": "a15a27d9",
   "metadata": {},
   "outputs": [],
   "source": [
    "import numpy as np\n",
    "import pandas as pd\n",
    "\n",
    "from scipy import stats\n",
    "\n",
    "from tqdm import tqdm\n",
    "\n",
    "import matplotlib.pyplot as plt\n",
    "plt.style.use('fivethirtyeight')"
   ]
  },
  {
   "cell_type": "markdown",
   "id": "c28d0ebf",
   "metadata": {},
   "source": [
    "# Causal Secrets Mini-Course\n",
    "## Secret 2 - Lecture 2\n",
    "\n",
    "This notebook is a part of the [Causal Secrets Mini-Course](https://causalsecrets.com/).\n",
    "\n",
    "<a href=\"https://causalpython.io\"><img src=\"img/CausalPython.io - Dark.png\" width=150 align=\"left\"></a>\n",
    "\n",
    "<br><br>\n",
    "\n",
    "<img src=\"img/drug-A-vs-drug-B.jpg\" width=600 align=\"center\">\n",
    "\n",
    "In this notebook, we'll test two drugs: A and B using a randomized controlled trial.\n",
    "\n",
    "If there's no difference between the drugs in the population, does it matter which drug we'll prescribe to someone like Jennifer?"
   ]
  },
  {
   "cell_type": "markdown",
   "id": "690ff00a",
   "metadata": {},
   "source": [
    "## Define the SCM\n",
    "\n",
    "Let's define the data generating process."
   ]
  },
  {
   "cell_type": "code",
   "execution_count": 2,
   "id": "a483130c",
   "metadata": {},
   "outputs": [],
   "source": [
    "class SCM:\n",
    "    def __init__(self, random_seed=None):\n",
    "        self.random_seed = random_seed\n",
    "        self.gene_1_variant = stats.multinomial(1, [.15, .5, .35])\n",
    "        self.gene_2_variant = stats.multinomial(1, [.35, .5, .15])\n",
    "        self.gene_expression_list = np.array([-1, 0, 1])\n",
    "        self.treatment_dict = {\n",
    "            0: 'control',\n",
    "            1: 'drug A',\n",
    "            2: 'drug B'\n",
    "        }\n",
    "        \n",
    "    def get_counterfactuals(self, u_g1=None, u_g2=None, sample_size=100):\n",
    "        \n",
    "        if self.random_seed is not None:\n",
    "            np.random.seed(self.random_seed)\n",
    "            \n",
    "        # Get individual level characteristics\n",
    "        if u_g1 is None:\n",
    "            u_g1 = self.gene_expression_list[\n",
    "                np.argmax(\n",
    "                    self.gene_1_variant.rvs(sample_size),\n",
    "                    axis=1)\n",
    "            ]\n",
    "        else:\n",
    "            u_g1 = np.array([u_g1]*sample_size)\n",
    "        \n",
    "        if u_g2 is None:\n",
    "            u_g2 = self.gene_expression_list[\n",
    "                np.argmax(\n",
    "                    self.gene_2_variant.rvs(sample_size),\n",
    "                    axis=1)\n",
    "            ]\n",
    "        else:\n",
    "            u_g2 = np.array([u_g2]*sample_size)\n",
    "        \n",
    "        # Get treatment effects: treatment{d1, d2} X gene{g1, g2}\n",
    "        y0 = np.full_like(u_g1, 0*u_g1 + 0*u_g2)\n",
    "        y1 = 1*u_g1 + 0*u_g2\n",
    "        y2 = 0*u_g1 - 1*u_g2\n",
    "        \n",
    "        self.counterfactual_data = pd.DataFrame(\n",
    "            {\n",
    "                'u_g1': u_g1,\n",
    "                'u_g2': u_g2,\n",
    "                'y0': y0,\n",
    "                'y1': y1,\n",
    "                'y2': y2\n",
    "            }\n",
    "        )\n",
    "        \n",
    "        return self.counterfactual_data\n",
    "    \n",
    "    def run_rct(self, sample_size=100):\n",
    "        # Get counterfactuals\n",
    "        self.get_counterfactuals(sample_size=sample_size)\n",
    "        \n",
    "        # Randomize the treatment & get the RCT data\n",
    "        treatment_assignment = np.random.choice(3, sample_size)\n",
    "        outcome_data = self.counterfactual_data[['y0', 'y1', 'y2']].values\n",
    "        y_rct = outcome_data[np.arange(outcome_data.shape[0]), treatment_assignment]\n",
    "        treatments = [self.treatment_dict[i] for i in treatment_assignment]\n",
    "        \n",
    "        # Construct the return object\n",
    "        rct_data = pd.DataFrame(\n",
    "            {\n",
    "                'treatment': treatments,\n",
    "                'y': y_rct\n",
    "            }\n",
    "        )\n",
    "        \n",
    "        return rct_data"
   ]
  },
  {
   "cell_type": "markdown",
   "id": "1093e40b",
   "metadata": {},
   "source": [
    "## Run an RCT\n",
    "\n",
    "Let's run a randomized experiment and examine the average outcomes"
   ]
  },
  {
   "cell_type": "code",
   "execution_count": 3,
   "id": "41d91df5",
   "metadata": {},
   "outputs": [
    {
     "data": {
      "text/html": [
       "<div>\n",
       "<style scoped>\n",
       "    .dataframe tbody tr th:only-of-type {\n",
       "        vertical-align: middle;\n",
       "    }\n",
       "\n",
       "    .dataframe tbody tr th {\n",
       "        vertical-align: top;\n",
       "    }\n",
       "\n",
       "    .dataframe thead th {\n",
       "        text-align: right;\n",
       "    }\n",
       "</style>\n",
       "<table border=\"1\" class=\"dataframe\">\n",
       "  <thead>\n",
       "    <tr style=\"text-align: right;\">\n",
       "      <th></th>\n",
       "      <th>y</th>\n",
       "    </tr>\n",
       "    <tr>\n",
       "      <th>treatment</th>\n",
       "      <th></th>\n",
       "    </tr>\n",
       "  </thead>\n",
       "  <tbody>\n",
       "    <tr>\n",
       "      <th>control</th>\n",
       "      <td>0.000000</td>\n",
       "    </tr>\n",
       "    <tr>\n",
       "      <th>drug A</th>\n",
       "      <td>0.244118</td>\n",
       "    </tr>\n",
       "    <tr>\n",
       "      <th>drug B</th>\n",
       "      <td>0.233918</td>\n",
       "    </tr>\n",
       "  </tbody>\n",
       "</table>\n",
       "</div>"
      ],
      "text/plain": [
       "                  y\n",
       "treatment          \n",
       "control    0.000000\n",
       "drug A     0.244118\n",
       "drug B     0.233918"
      ]
     },
     "execution_count": 3,
     "metadata": {},
     "output_type": "execute_result"
    }
   ],
   "source": [
    "# Instantiate the SCM\n",
    "scm = SCM(random_seed=42)\n",
    "\n",
    "# Run an RCT\n",
    "N = 1_000\n",
    "rct_data = scm.run_rct(N)\n",
    "\n",
    "# Compute means\n",
    "rct_data.groupby('treatment').mean()"
   ]
  },
  {
   "cell_type": "markdown",
   "id": "6b4cf52f",
   "metadata": {},
   "source": [
    "## Analyze the Results\n",
    "\n",
    "Let's analyze the results of our RCT"
   ]
  },
  {
   "cell_type": "markdown",
   "id": "e87137ae",
   "metadata": {},
   "source": [
    "### Visual Analysis"
   ]
  },
  {
   "cell_type": "code",
   "execution_count": 4,
   "id": "9520773f",
   "metadata": {},
   "outputs": [
    {
     "data": {
      "image/png": "[encoded data removed]",
      "text/plain": [
       "<Figure size 640x480 with 1 Axes>"
      ]
     },
     "metadata": {},
     "output_type": "display_data"
    }
   ],
   "source": [
    "plt.hist(\n",
    "    rct_data.query('treatment==\"drug A\"')['y'],\n",
    "    alpha=.5,\n",
    "    label='Drug A',\n",
    ")\n",
    "\n",
    "plt.hist(\n",
    "    rct_data.query('treatment==\"drug B\"')['y'],\n",
    "    alpha=.5,\n",
    "    label='Drug B',\n",
    ")\n",
    "\n",
    "plt.legend()\n",
    "plt.show()"
   ]
  },
  {
   "cell_type": "code",
   "execution_count": 5,
   "id": "dbc157f2",
   "metadata": {},
   "outputs": [
    {
     "data": {
      "text/html": [
       "<div>\n",
       "<style scoped>\n",
       "    .dataframe tbody tr th:only-of-type {\n",
       "        vertical-align: middle;\n",
       "    }\n",
       "\n",
       "    .dataframe tbody tr th {\n",
       "        vertical-align: top;\n",
       "    }\n",
       "\n",
       "    .dataframe thead th {\n",
       "        text-align: right;\n",
       "    }\n",
       "</style>\n",
       "<table border=\"1\" class=\"dataframe\">\n",
       "  <thead>\n",
       "    <tr style=\"text-align: right;\">\n",
       "      <th>y</th>\n",
       "      <th>-1</th>\n",
       "      <th>0</th>\n",
       "      <th>1</th>\n",
       "    </tr>\n",
       "    <tr>\n",
       "      <th>treatment</th>\n",
       "      <th></th>\n",
       "      <th></th>\n",
       "      <th></th>\n",
       "    </tr>\n",
       "  </thead>\n",
       "  <tbody>\n",
       "    <tr>\n",
       "      <th>drug A</th>\n",
       "      <td>45</td>\n",
       "      <td>167</td>\n",
       "      <td>128</td>\n",
       "    </tr>\n",
       "    <tr>\n",
       "      <th>drug B</th>\n",
       "      <td>49</td>\n",
       "      <td>164</td>\n",
       "      <td>129</td>\n",
       "    </tr>\n",
       "  </tbody>\n",
       "</table>\n",
       "</div>"
      ],
      "text/plain": [
       "y          -1    0    1\n",
       "treatment              \n",
       "drug A     45  167  128\n",
       "drug B     49  164  129"
      ]
     },
     "execution_count": 5,
     "metadata": {},
     "output_type": "execute_result"
    }
   ],
   "source": [
    "# Filter out the control group (control outcome is always 0 by design)\n",
    "rct_df_filtered = rct_data[rct_data['treatment'] != 'control']\n",
    "\n",
    "# Build the contingency table: rows = treatment groups, columns = outcomes (-1, 0, 1)\n",
    "contingency_table = pd.crosstab(rct_df_filtered['treatment'], rct_df_filtered['y'])\n",
    "contingency_table"
   ]
  },
  {
   "cell_type": "markdown",
   "id": "b58f55e5",
   "metadata": {},
   "source": [
    "### $\\chi^2$ Test"
   ]
  },
  {
   "cell_type": "code",
   "execution_count": 6,
   "id": "ad08395a",
   "metadata": {},
   "outputs": [
    {
     "name": "stdout",
     "output_type": "stream",
     "text": [
      "\n",
      "Chi-square statistic: 0.19543072690444463\n",
      "Degrees of freedom: 2\n",
      "p-value: 0.9069070058988411\n"
     ]
    }
   ],
   "source": [
    "# Run the chi-square test\n",
    "chi2, p, dof, expected = stats.chi2_contingency(contingency_table)\n",
    "print(\"\\nChi-square statistic:\", chi2)\n",
    "print(\"Degrees of freedom:\", dof)\n",
    "print(\"p-value:\", p)"
   ]
  },
  {
   "cell_type": "markdown",
   "id": "ae27c144",
   "metadata": {},
   "source": [
    "## Analyze Individual Conuterfactual Outcomes\n",
    "\n",
    "Let's analyze the individual counterfactual outcomes and see what would be the outcomes of individual decisions."
   ]
  },
  {
   "cell_type": "code",
   "execution_count": 7,
   "id": "10475d37",
   "metadata": {},
   "outputs": [],
   "source": [
    "outcome_dict = {\n",
    "    -1: '\\033[1;31mdie\\033[0m',\n",
    "    0: '\\033[1;33mexperience no change\\033[0m',\n",
    "    1: '\\033[1;32mrecover\\033[0m'\n",
    "}"
   ]
  },
  {
   "cell_type": "code",
   "execution_count": 8,
   "id": "cff9f945",
   "metadata": {},
   "outputs": [
    {
     "name": "stdout",
     "output_type": "stream",
     "text": [
      "Our patient would:     \n",
      "    - \u001b[1;33mexperience no change\u001b[0m under no treatment     \n",
      "    - \u001b[1;32mrecover\u001b[0m under treatment 1 (drug A)     \n",
      "    - \u001b[1;31mdie\u001b[0m under treatment 2 (drug B)\n"
     ]
    }
   ],
   "source": [
    "cfs = scm.get_counterfactuals(u_g1=1, u_g2=1, sample_size=1)\n",
    "cfs\n",
    "print(f'Our patient would:\\\n",
    "     \\n    - {outcome_dict[cfs[\"y0\"][0]]} under no treatment\\\n",
    "     \\n    - {outcome_dict[cfs[\"y1\"][0]]} under treatment 1 (drug A)\\\n",
    "     \\n    - {outcome_dict[cfs[\"y2\"][0]]} under treatment 2 (drug B)')"
   ]
  },
  {
   "cell_type": "code",
   "execution_count": 9,
   "id": "16498f2f",
   "metadata": {},
   "outputs": [
    {
     "name": "stdout",
     "output_type": "stream",
     "text": [
      "A person with u1=-1 and u2=-1 would:         \n",
      "    - \u001b[1;31mdie\u001b[0m under treatment 1 (drug 1)         \n",
      "    - \u001b[1;32mrecover\u001b[0m under treatment 2 (drug 2)\n",
      "\n",
      "\n",
      "A person with u1=-1 and u2=0 would:         \n",
      "    - \u001b[1;31mdie\u001b[0m under treatment 1 (drug 1)         \n",
      "    - \u001b[1;33mexperience no change\u001b[0m under treatment 2 (drug 2)\n",
      "\n",
      "\n",
      "A person with u1=-1 and u2=1 would:         \n",
      "    - \u001b[1;31mdie\u001b[0m under treatment 1 (drug 1)         \n",
      "    - \u001b[1;31mdie\u001b[0m under treatment 2 (drug 2)\n",
      "\n",
      "\n",
      "A person with u1=0 and u2=0 would:         \n",
      "    - \u001b[1;33mexperience no change\u001b[0m under treatment 1 (drug 1)         \n",
      "    - \u001b[1;33mexperience no change\u001b[0m under treatment 2 (drug 2)\n",
      "\n",
      "\n",
      "A person with u1=0 and u2=-1 would:         \n",
      "    - \u001b[1;33mexperience no change\u001b[0m under treatment 1 (drug 1)         \n",
      "    - \u001b[1;32mrecover\u001b[0m under treatment 2 (drug 2)\n",
      "\n",
      "\n",
      "A person with u1=0 and u2=1 would:         \n",
      "    - \u001b[1;33mexperience no change\u001b[0m under treatment 1 (drug 1)         \n",
      "    - \u001b[1;31mdie\u001b[0m under treatment 2 (drug 2)\n",
      "\n",
      "\n",
      "A person with u1=1 and u2=1 would:         \n",
      "    - \u001b[1;32mrecover\u001b[0m under treatment 1 (drug 1)         \n",
      "    - \u001b[1;31mdie\u001b[0m under treatment 2 (drug 2)\n",
      "\n",
      "\n",
      "A person with u1=1 and u2=-1 would:         \n",
      "    - \u001b[1;32mrecover\u001b[0m under treatment 1 (drug 1)         \n",
      "    - \u001b[1;32mrecover\u001b[0m under treatment 2 (drug 2)\n",
      "\n",
      "\n",
      "A person with u1=1 and u2=0 would:         \n",
      "    - \u001b[1;32mrecover\u001b[0m under treatment 1 (drug 1)         \n",
      "    - \u001b[1;33mexperience no change\u001b[0m under treatment 2 (drug 2)\n",
      "\n",
      "\n"
     ]
    }
   ],
   "source": [
    "# See all combinations\n",
    "combs = [\n",
    "    (-1, -1),\n",
    "    (-1, 0),\n",
    "    (-1, 1), \n",
    "    (0, 0),\n",
    "    (0, -1),\n",
    "    (0, 1),\n",
    "    (1, 1),\n",
    "    (1, -1),\n",
    "    (1, 0)\n",
    "]\n",
    "\n",
    "for c in combs:\n",
    "    # Get the result from SCM1 & SCM2\n",
    "    cfs = scm.get_counterfactuals(u_g1=c[0], u_g2=c[1], sample_size=1)\n",
    "    \n",
    "    print(f'A person with u1={c[0]} and u2={c[1]} would:\\\n",
    "         \\n    - {outcome_dict[cfs[\"y1\"][0]]} under treatment 1 (drug 1)\\\n",
    "         \\n    - {outcome_dict[cfs[\"y2\"][0]]} under treatment 2 (drug 2)\\n\\n')"
   ]
  },
  {
   "cell_type": "markdown",
   "id": "e0291291",
   "metadata": {},
   "source": [
    "## More Examples\n",
    "\n",
    "See Example 9 in [Bareinboim et al (2021)](https://causalai.net/r60.pdf) for a more complex setup where two different SCMs lead to exactly the same experimental distributions.\n",
    "\n",
    "<img src='img/neil-degrasse-tyson.jpg' width=200>\n",
    "\n",
    "Another way in which experiments might not reveal important aspects of the underlying data generating process is when we only test certain values of the treatment or values in a certain range.\n",
    "\n",
    "As nicely summarized by American astrophysicist and writer, Neil deGrasse Tyson, [\"we went to the moon using Newton's laws, not Einstein's\"](https://www.youtube.com/watch?v=y8-82Bpjdgk).\n",
    "\n",
    "Newton's laws work well, unless we meet high speed and high gravity regimes, when they break down."
   ]
  },
  {
   "cell_type": "code",
   "execution_count": null,
   "id": "40f54e89",
   "metadata": {},
   "outputs": [],
   "source": []
  }
 ],
 "metadata": {
  "kernelspec": {
   "display_name": "Python 3 (ipykernel)",
   "language": "python",
   "name": "python3"
  },
  "language_info": {
   "codemirror_mode": {
    "name": "ipython",
    "version": 3
   },
   "file_extension": ".py",
   "mimetype": "text/x-python",
   "name": "python",
   "nbconvert_exporter": "python",
   "pygments_lexer": "ipython3",
   "version": "3.9.18"
  }
 },
 "nbformat": 4,
 "nbformat_minor": 5
}
